{
 "cells": [
  {
   "cell_type": "code",
   "execution_count": null,
   "metadata": {},
   "outputs": [],
   "source": [
    "import cv2\n",
    "import numpy as np"
   ]
  },
  {
   "cell_type": "code",
   "execution_count": null,
   "metadata": {},
   "outputs": [],
   "source": [
    "def on_EVENT_LBUTTONDOWN(event, x, y, flags, param):\n",
    "    if event == cv2.EVENT_LBUTTONDOWN:\n",
    "        xy = \"%d,%d\" % (x, y)\n",
    "        a.append(x)\n",
    "        b.append(y)\n",
    "        cv2.circle(img, (x, y), 1, (0, 0, 255), thickness=-1)\n",
    "        cv2.putText(img, xy, (x, y), cv2.FONT_HERSHEY_PLAIN,\n",
    "                    1.0, (0, 0, 0), thickness=1)\n",
    "        cv2.imshow(\"image\", img)\n",
    "        print(x,y)"
   ]
  },
  {
   "cell_type": "code",
   "execution_count": null,
   "metadata": {},
   "outputs": [],
   "source": [
    "def normalizePoints(points):\n",
    "    points = np.asarray(points)\n",
    "    mean = np.mean(points,axis=0)\n",
    "    points_x = points[:,0]\n",
    "    points_y = points[:,1]\n",
    "    std_x = np.std(points_x)\n",
    "    std_y = np.std(points_y)\n",
    "    std = np.sqrt((std_x**2+std_y**2)/2)\n",
    "    T = np.array([[1/std,0,-mean[0]/std],\n",
    "                  [0,1/std,-mean[1]/std],\n",
    "                  [0,0,1]])\n",
    "    homo_points = np.c_[points,np.ones([points.shape[0],1])]\n",
    "    normalize_points = T.dot(homo_points.T)[0:2,:]\n",
    "    return normalize_points.T, T"
   ]
  },
  {
   "cell_type": "code",
   "execution_count": null,
   "metadata": {},
   "outputs": [],
   "source": [
    "img = cv2.imread('./000120.png')\n",
    "\n",
    "a = []\n",
    "b = []\n",
    "\n",
    "cv2.namedWindow(\"image\", cv2.WND_PROP_FULLSCREEN)\n",
    "cv2.setMouseCallback(\"image\", on_EVENT_LBUTTONDOWN)\n",
    "cv2.imshow(\"image\", img)\n",
    "cv2.waitKey(0)\n",
    "print(a[0], b[0])"
   ]
  },
  {
   "cell_type": "code",
   "execution_count": null,
   "metadata": {},
   "outputs": [],
   "source": [
    "# Cone markers pixel coordinates on the image\n",
    "pts_src = np.ones([int(len(a)),2])\n",
    "for i in range(len(a)):\n",
    "        pts_src[i,0] = a[i]\n",
    "        pts_src[i,1] = b[i]"
   ]
  },
  {
   "cell_type": "code",
   "execution_count": null,
   "metadata": {},
   "outputs": [],
   "source": [
    "# Cone markers pyhsical coordinates on the ground in reference to projected camera\n",
    "# Please rearrange them in your condition\n",
    "width = 1.27\n",
    "height = 1.3081\n",
    "pts_dst = np.array([[-width,0],\n",
    "                    [0,0],\n",
    "                    [width,0],\n",
    "                    [2*width,0],\n",
    "                    [-width, height],\n",
    "                    [0, height],\n",
    "                    [width, height],\n",
    "                    [2*width, height],\n",
    "                    [-2*width, 2*height],\n",
    "                    [-width, 2*height],\n",
    "                    [0, 2*height],\n",
    "                    [width, 2*height],\n",
    "                    [2*width, 2*height],\n",
    "                    [-2*width, 3*height],\n",
    "                    [-width, 3*height],\n",
    "                    [0, 3*height],\n",
    "                    [width, 3*height],\n",
    "                    [2*width, 3*height],\n",
    "                    [-2*width, 4*height],\n",
    "                    [-width, 4*height],\n",
    "                    [0, 4*height],\n",
    "                    [width, 4*height],\n",
    "                    [2*width, 4*height]])\n",
    "camera_position = np.array([[-0.9144,4.4323]])\n",
    "pts_dst += camera_position"
   ]
  },
  {
   "cell_type": "code",
   "execution_count": null,
   "metadata": {},
   "outputs": [],
   "source": [
    "# Estiamte H matrix\n",
    "N_pts_src, T_src = normalizePoints(pts_src)\n",
    "N_pts_dst, T_dst = normalizePoints(pts_dst)\n",
    "h, status = cv2.findHomography(N_pts_src, N_pts_dst, cv2.RANSAC, 5.0)\n",
    "\n",
    "H = ((np.asmatrix(T_dst).I).dot(h)).dot(T_src)\n",
    "H"
   ]
  },
  {
   "cell_type": "code",
   "execution_count": null,
   "metadata": {},
   "outputs": [],
   "source": [
    "# check homography estimation error\n",
    "for pt, gt in zip(pts_src, pts_dst):\n",
    "    xy = np.array([pt[0], pt[1], 1]).reshape(3,1)\n",
    "    a = H.dot(xy)\n",
    "    b = a/a[-1]\n",
    "    error = abs(b[0,0]-gt[0])+abs(b[1,0]-gt[1])\n",
    "    print(error)"
   ]
  },
  {
   "cell_type": "code",
   "execution_count": null,
   "metadata": {},
   "outputs": [],
   "source": []
  }
 ],
 "metadata": {
  "kernelspec": {
   "display_name": "Python 3",
   "language": "python",
   "name": "python3"
  },
  "language_info": {
   "codemirror_mode": {
    "name": "ipython",
    "version": 3
   },
   "file_extension": ".py",
   "mimetype": "text/x-python",
   "name": "python",
   "nbconvert_exporter": "python",
   "pygments_lexer": "ipython3",
   "version": "3.8.6"
  }
 },
 "nbformat": 4,
 "nbformat_minor": 4
}
